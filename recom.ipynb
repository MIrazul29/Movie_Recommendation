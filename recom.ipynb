{
 "cells": [
  {
   "cell_type": "code",
   "execution_count": 1,
   "metadata": {
    "ExecuteTime": {
     "end_time": "2021-02-08T18:46:22.527696Z",
     "start_time": "2021-02-08T18:46:17.070287Z"
    }
   },
   "outputs": [],
   "source": [
    "import pandas as pd \n",
    "from sklearn.metrics.pairwise import cosine_distances\n",
    "from  sklearn.feature_extraction.text import CountVectorizer\n"
   ]
  },
  {
   "cell_type": "code",
   "execution_count": 2,
   "metadata": {
    "ExecuteTime": {
     "end_time": "2021-02-08T18:46:23.699562Z",
     "start_time": "2021-02-08T18:46:22.531684Z"
    }
   },
   "outputs": [
    {
     "output_type": "execute_result",
     "data": {
      "text/plain": [
       "(4803, 20)"
      ]
     },
     "metadata": {},
     "execution_count": 2
    }
   ],
   "source": [
    "df= pd.read_csv('newdata.csv')\n",
    "df.shape"
   ]
  },
  {
   "cell_type": "code",
   "execution_count": 3,
   "metadata": {
    "ExecuteTime": {
     "end_time": "2021-02-08T18:46:23.841181Z",
     "start_time": "2021-02-08T18:46:23.704547Z"
    }
   },
   "outputs": [
    {
     "output_type": "execute_result",
     "data": {
      "text/plain": [
       "    Unnamed: 0                                               cast  \\\n",
       "0            0  [{\"cast_id\": 242, \"character\": \"Jake Sully\", \"...   \n",
       "1            1  [{\"cast_id\": 4, \"character\": \"Captain Jack Spa...   \n",
       "2            2  [{\"cast_id\": 1, \"character\": \"James Bond\", \"cr...   \n",
       "3            3  [{\"cast_id\": 2, \"character\": \"Bruce Wayne / Ba...   \n",
       "4            4  [{\"cast_id\": 5, \"character\": \"John Carter\", \"c...   \n",
       "5            5  [{\"cast_id\": 30, \"character\": \"Peter Parker / ...   \n",
       "6            6  [{\"cast_id\": 34, \"character\": \"Flynn Rider (vo...   \n",
       "7            7  [{\"cast_id\": 76, \"character\": \"Tony Stark / Ir...   \n",
       "8            8  [{\"cast_id\": 3, \"character\": \"Harry Potter\", \"...   \n",
       "9            9  [{\"cast_id\": 18, \"character\": \"Bruce Wayne / B...   \n",
       "10          10  [{\"cast_id\": 3, \"character\": \"Superman / Clark...   \n",
       "11          11  [{\"cast_id\": 1, \"character\": \"James Bond\", \"cr...   \n",
       "12          12  [{\"cast_id\": 37, \"character\": \"Captain Jack Sp...   \n",
       "13          13  [{\"cast_id\": 4, \"character\": \"Tonto\", \"credit_...   \n",
       "14          14  [{\"cast_id\": 2, \"character\": \"Clark Kent / Kal...   \n",
       "15          15  [{\"cast_id\": 1, \"character\": \"Prince Caspian\",...   \n",
       "\n",
       "                                                 crew     budget  \\\n",
       "0   [{\"credit_id\": \"52fe48009251416c750aca23\", \"de...  237000000   \n",
       "1   [{\"credit_id\": \"52fe4232c3a36847f800b579\", \"de...  300000000   \n",
       "2   [{\"credit_id\": \"54805967c3a36829b5002c41\", \"de...  245000000   \n",
       "3   [{\"credit_id\": \"52fe4781c3a36847f81398c3\", \"de...  250000000   \n",
       "4   [{\"credit_id\": \"52fe479ac3a36847f813eaa3\", \"de...  260000000   \n",
       "5   [{\"credit_id\": \"52fe4252c3a36847f80151a5\", \"de...  258000000   \n",
       "6   [{\"credit_id\": \"52fe46db9251416c91062101\", \"de...  260000000   \n",
       "7   [{\"credit_id\": \"55d5f7d4c3a3683e7e0016eb\", \"de...  280000000   \n",
       "8   [{\"credit_id\": \"52fe4273c3a36847f801fab1\", \"de...  250000000   \n",
       "9   [{\"credit_id\": \"553bf23692514135c8002886\", \"de...  250000000   \n",
       "10  [{\"credit_id\": \"553bef6a9251416874003c8f\", \"de...  270000000   \n",
       "11  [{\"credit_id\": \"52fe43b29251416c7501aa63\", \"de...  200000000   \n",
       "12  [{\"credit_id\": \"52fe4211c3a36847f8001873\", \"de...  200000000   \n",
       "13  [{\"credit_id\": \"52fe4928c3a36847f818be95\", \"de...  255000000   \n",
       "14  [{\"credit_id\": \"52fe4799c3a36847f813e667\", \"de...  225000000   \n",
       "15  [{\"credit_id\": \"55a239e69251412979002e8b\", \"de...  225000000   \n",
       "\n",
       "                                               genres  \\\n",
       "0   [{\"id\": 28, \"name\": \"Action\"}, {\"id\": 12, \"nam...   \n",
       "1   [{\"id\": 12, \"name\": \"Adventure\"}, {\"id\": 14, \"...   \n",
       "2   [{\"id\": 28, \"name\": \"Action\"}, {\"id\": 12, \"nam...   \n",
       "3   [{\"id\": 28, \"name\": \"Action\"}, {\"id\": 80, \"nam...   \n",
       "4   [{\"id\": 28, \"name\": \"Action\"}, {\"id\": 12, \"nam...   \n",
       "5   [{\"id\": 14, \"name\": \"Fantasy\"}, {\"id\": 28, \"na...   \n",
       "6   [{\"id\": 16, \"name\": \"Animation\"}, {\"id\": 10751...   \n",
       "7   [{\"id\": 28, \"name\": \"Action\"}, {\"id\": 12, \"nam...   \n",
       "8   [{\"id\": 12, \"name\": \"Adventure\"}, {\"id\": 14, \"...   \n",
       "9   [{\"id\": 28, \"name\": \"Action\"}, {\"id\": 12, \"nam...   \n",
       "10  [{\"id\": 12, \"name\": \"Adventure\"}, {\"id\": 14, \"...   \n",
       "11  [{\"id\": 12, \"name\": \"Adventure\"}, {\"id\": 28, \"...   \n",
       "12  [{\"id\": 12, \"name\": \"Adventure\"}, {\"id\": 14, \"...   \n",
       "13  [{\"id\": 28, \"name\": \"Action\"}, {\"id\": 12, \"nam...   \n",
       "14  [{\"id\": 28, \"name\": \"Action\"}, {\"id\": 12, \"nam...   \n",
       "15  [{\"id\": 12, \"name\": \"Adventure\"}, {\"id\": 10751...   \n",
       "\n",
       "                                             keywords original_language  \\\n",
       "0   [{\"id\": 1463, \"name\": \"culture clash\"}, {\"id\":...                en   \n",
       "1   [{\"id\": 270, \"name\": \"ocean\"}, {\"id\": 726, \"na...                en   \n",
       "2   [{\"id\": 470, \"name\": \"spy\"}, {\"id\": 818, \"name...                en   \n",
       "3   [{\"id\": 849, \"name\": \"dc comics\"}, {\"id\": 853,...                en   \n",
       "4   [{\"id\": 818, \"name\": \"based on novel\"}, {\"id\":...                en   \n",
       "5   [{\"id\": 851, \"name\": \"dual identity\"}, {\"id\": ...                en   \n",
       "6   [{\"id\": 1562, \"name\": \"hostage\"}, {\"id\": 2343,...                en   \n",
       "7   [{\"id\": 8828, \"name\": \"marvel comic\"}, {\"id\": ...                en   \n",
       "8   [{\"id\": 616, \"name\": \"witch\"}, {\"id\": 2343, \"n...                en   \n",
       "9   [{\"id\": 849, \"name\": \"dc comics\"}, {\"id\": 7002...                en   \n",
       "10  [{\"id\": 83, \"name\": \"saving the world\"}, {\"id\"...                en   \n",
       "11  [{\"id\": 627, \"name\": \"killing\"}, {\"id\": 1568, ...                en   \n",
       "12  [{\"id\": 616, \"name\": \"witch\"}, {\"id\": 663, \"na...                en   \n",
       "13  [{\"id\": 1556, \"name\": \"texas\"}, {\"id\": 2673, \"...                en   \n",
       "14  [{\"id\": 83, \"name\": \"saving the world\"}, {\"id\"...                en   \n",
       "15  [{\"id\": 818, \"name\": \"based on novel\"}, {\"id\":...                en   \n",
       "\n",
       "                                original_title  \\\n",
       "0                                       Avatar   \n",
       "1     Pirates of the Caribbean: At World's End   \n",
       "2                                      Spectre   \n",
       "3                        The Dark Knight Rises   \n",
       "4                                  John Carter   \n",
       "5                                 Spider-Man 3   \n",
       "6                                      Tangled   \n",
       "7                      Avengers: Age of Ultron   \n",
       "8       Harry Potter and the Half-Blood Prince   \n",
       "9           Batman v Superman: Dawn of Justice   \n",
       "10                            Superman Returns   \n",
       "11                           Quantum of Solace   \n",
       "12  Pirates of the Caribbean: Dead Man's Chest   \n",
       "13                             The Lone Ranger   \n",
       "14                                Man of Steel   \n",
       "15    The Chronicles of Narnia: Prince Caspian   \n",
       "\n",
       "                                             overview  popularity  \\\n",
       "0   In the 22nd century, a paraplegic Marine is di...  150.437577   \n",
       "1   Captain Barbossa, long believed to be dead, ha...  139.082615   \n",
       "2   A cryptic message from Bond’s past sends him o...  107.376788   \n",
       "3   Following the death of District Attorney Harve...  112.312950   \n",
       "4   John Carter is a war-weary, former military ca...   43.926995   \n",
       "5   The seemingly invincible Spider-Man goes up ag...  115.699814   \n",
       "6   When the kingdom's most wanted-and most charmi...   48.681969   \n",
       "7   When Tony Stark tries to jumpstart a dormant p...  134.279229   \n",
       "8   As Harry begins his sixth year at Hogwarts, he...   98.885637   \n",
       "9   Fearing the actions of a god-like Super Hero l...  155.790452   \n",
       "10  Superman returns to discover his 5-year absenc...   57.925623   \n",
       "11  Quantum of Solace continues the adventures of ...  107.928811   \n",
       "12  Captain Jack Sparrow works his way out of a bl...  145.847379   \n",
       "13  The Texas Rangers chase down a gang of outlaws...   49.046956   \n",
       "14  A young boy learns that he has extraordinary p...   99.398009   \n",
       "15  One year after their incredible adventures in ...   53.978602   \n",
       "\n",
       "                                 production_companies release_date  runtime  \\\n",
       "0   [{\"name\": \"Ingenious Film Partners\", \"id\": 289...   2009-12-10    162.0   \n",
       "1   [{\"name\": \"Walt Disney Pictures\", \"id\": 2}, {\"...   2007-05-19    169.0   \n",
       "2   [{\"name\": \"Columbia Pictures\", \"id\": 5}, {\"nam...   2015-10-26    148.0   \n",
       "3   [{\"name\": \"Legendary Pictures\", \"id\": 923}, {\"...   2012-07-16    165.0   \n",
       "4         [{\"name\": \"Walt Disney Pictures\", \"id\": 2}]   2012-03-07    132.0   \n",
       "5   [{\"name\": \"Columbia Pictures\", \"id\": 5}, {\"nam...   2007-05-01    139.0   \n",
       "6   [{\"name\": \"Walt Disney Pictures\", \"id\": 2}, {\"...   2010-11-24    100.0   \n",
       "7   [{\"name\": \"Marvel Studios\", \"id\": 420}, {\"name...   2015-04-22    141.0   \n",
       "8   [{\"name\": \"Warner Bros.\", \"id\": 6194}, {\"name\"...   2009-07-07    153.0   \n",
       "9   [{\"name\": \"DC Comics\", \"id\": 429}, {\"name\": \"A...   2016-03-23    151.0   \n",
       "10  [{\"name\": \"DC Comics\", \"id\": 429}, {\"name\": \"L...   2006-06-28    154.0   \n",
       "11          [{\"name\": \"Eon Productions\", \"id\": 7576}]   2008-10-30    106.0   \n",
       "12  [{\"name\": \"Walt Disney Pictures\", \"id\": 2}, {\"...   2006-06-20    151.0   \n",
       "13  [{\"name\": \"Walt Disney Pictures\", \"id\": 2}, {\"...   2013-07-03    149.0   \n",
       "14  [{\"name\": \"Legendary Pictures\", \"id\": 923}, {\"...   2013-06-12    143.0   \n",
       "15  [{\"name\": \"Walt Disney\", \"id\": 5888}, {\"name\":...   2008-05-15    150.0   \n",
       "\n",
       "                                     spoken_languages    status  \\\n",
       "0   [{\"iso_639_1\": \"en\", \"name\": \"English\"}, {\"iso...  Released   \n",
       "1            [{\"iso_639_1\": \"en\", \"name\": \"English\"}]  Released   \n",
       "2   [{\"iso_639_1\": \"fr\", \"name\": \"Fran\\u00e7ais\"},...  Released   \n",
       "3            [{\"iso_639_1\": \"en\", \"name\": \"English\"}]  Released   \n",
       "4            [{\"iso_639_1\": \"en\", \"name\": \"English\"}]  Released   \n",
       "5   [{\"iso_639_1\": \"en\", \"name\": \"English\"}, {\"iso...  Released   \n",
       "6            [{\"iso_639_1\": \"en\", \"name\": \"English\"}]  Released   \n",
       "7            [{\"iso_639_1\": \"en\", \"name\": \"English\"}]  Released   \n",
       "8            [{\"iso_639_1\": \"en\", \"name\": \"English\"}]  Released   \n",
       "9            [{\"iso_639_1\": \"en\", \"name\": \"English\"}]  Released   \n",
       "10  [{\"iso_639_1\": \"en\", \"name\": \"English\"}, {\"iso...  Released   \n",
       "11  [{\"iso_639_1\": \"en\", \"name\": \"English\"}, {\"iso...  Released   \n",
       "12  [{\"iso_639_1\": \"en\", \"name\": \"English\"}, {\"iso...  Released   \n",
       "13           [{\"iso_639_1\": \"en\", \"name\": \"English\"}]  Released   \n",
       "14           [{\"iso_639_1\": \"en\", \"name\": \"English\"}]  Released   \n",
       "15           [{\"iso_639_1\": \"en\", \"name\": \"English\"}]  Released   \n",
       "\n",
       "                                           tagline  vote_average  vote_count  \\\n",
       "0                      Enter the World of Pandora.           7.2       11800   \n",
       "1   At the end of the world, the adventure begins.           6.9        4500   \n",
       "2                            A Plan No One Escapes           6.3        4466   \n",
       "3                                  The Legend Ends           7.6        9106   \n",
       "4             Lost in our world, found in another.           6.1        2124   \n",
       "5                               The battle within.           5.9        3576   \n",
       "6         They're taking adventure to new lengths.           7.4        3330   \n",
       "7                              A New Age Has Come.           7.3        6767   \n",
       "8                            Dark Secrets Revealed           7.4        5293   \n",
       "9                               Justice or revenge           5.7        7004   \n",
       "10                                             NaN           5.4        1400   \n",
       "11   For love, for hate, for justice, for revenge.           6.1        2965   \n",
       "12                                   Jack is back!           7.0        5246   \n",
       "13                         Never Take Off the Mask           5.9        2311   \n",
       "14            You will believe that a man can fly.           6.5        6359   \n",
       "15                            Hope has a new face.           6.3        1630   \n",
       "\n",
       "    weighted_avg  \n",
       "0       6.144158  \n",
       "1       6.184545  \n",
       "2       6.116096  \n",
       "3       6.182607  \n",
       "4       6.093853  \n",
       "5       6.065313  \n",
       "6       6.286456  \n",
       "7       6.187674  \n",
       "8       6.221529  \n",
       "9       6.062132  \n",
       "10      5.889167  \n",
       "11      6.093454  \n",
       "12      6.182690  \n",
       "13      6.053564  \n",
       "14      6.126314  \n",
       "15      6.146784  "
      ],
      "text/html": "<div>\n<style scoped>\n    .dataframe tbody tr th:only-of-type {\n        vertical-align: middle;\n    }\n\n    .dataframe tbody tr th {\n        vertical-align: top;\n    }\n\n    .dataframe thead th {\n        text-align: right;\n    }\n</style>\n<table border=\"1\" class=\"dataframe\">\n  <thead>\n    <tr style=\"text-align: right;\">\n      <th></th>\n      <th>Unnamed: 0</th>\n      <th>cast</th>\n      <th>crew</th>\n      <th>budget</th>\n      <th>genres</th>\n      <th>keywords</th>\n      <th>original_language</th>\n      <th>original_title</th>\n      <th>overview</th>\n      <th>popularity</th>\n      <th>production_companies</th>\n      <th>release_date</th>\n      <th>runtime</th>\n      <th>spoken_languages</th>\n      <th>status</th>\n      <th>tagline</th>\n      <th>vote_average</th>\n      <th>vote_count</th>\n      <th>weighted_avg</th>\n    </tr>\n  </thead>\n  <tbody>\n    <tr>\n      <th>0</th>\n      <td>0</td>\n      <td>[{\"cast_id\": 242, \"character\": \"Jake Sully\", \"...</td>\n      <td>[{\"credit_id\": \"52fe48009251416c750aca23\", \"de...</td>\n      <td>237000000</td>\n      <td>[{\"id\": 28, \"name\": \"Action\"}, {\"id\": 12, \"nam...</td>\n      <td>[{\"id\": 1463, \"name\": \"culture clash\"}, {\"id\":...</td>\n      <td>en</td>\n      <td>Avatar</td>\n      <td>In the 22nd century, a paraplegic Marine is di...</td>\n      <td>150.437577</td>\n      <td>[{\"name\": \"Ingenious Film Partners\", \"id\": 289...</td>\n      <td>2009-12-10</td>\n      <td>162.0</td>\n      <td>[{\"iso_639_1\": \"en\", \"name\": \"English\"}, {\"iso...</td>\n      <td>Released</td>\n      <td>Enter the World of Pandora.</td>\n      <td>7.2</td>\n      <td>11800</td>\n      <td>6.144158</td>\n    </tr>\n    <tr>\n      <th>1</th>\n      <td>1</td>\n      <td>[{\"cast_id\": 4, \"character\": \"Captain Jack Spa...</td>\n      <td>[{\"credit_id\": \"52fe4232c3a36847f800b579\", \"de...</td>\n      <td>300000000</td>\n      <td>[{\"id\": 12, \"name\": \"Adventure\"}, {\"id\": 14, \"...</td>\n      <td>[{\"id\": 270, \"name\": \"ocean\"}, {\"id\": 726, \"na...</td>\n      <td>en</td>\n      <td>Pirates of the Caribbean: At World's End</td>\n      <td>Captain Barbossa, long believed to be dead, ha...</td>\n      <td>139.082615</td>\n      <td>[{\"name\": \"Walt Disney Pictures\", \"id\": 2}, {\"...</td>\n      <td>2007-05-19</td>\n      <td>169.0</td>\n      <td>[{\"iso_639_1\": \"en\", \"name\": \"English\"}]</td>\n      <td>Released</td>\n      <td>At the end of the world, the adventure begins.</td>\n      <td>6.9</td>\n      <td>4500</td>\n      <td>6.184545</td>\n    </tr>\n    <tr>\n      <th>2</th>\n      <td>2</td>\n      <td>[{\"cast_id\": 1, \"character\": \"James Bond\", \"cr...</td>\n      <td>[{\"credit_id\": \"54805967c3a36829b5002c41\", \"de...</td>\n      <td>245000000</td>\n      <td>[{\"id\": 28, \"name\": \"Action\"}, {\"id\": 12, \"nam...</td>\n      <td>[{\"id\": 470, \"name\": \"spy\"}, {\"id\": 818, \"name...</td>\n      <td>en</td>\n      <td>Spectre</td>\n      <td>A cryptic message from Bond’s past sends him o...</td>\n      <td>107.376788</td>\n      <td>[{\"name\": \"Columbia Pictures\", \"id\": 5}, {\"nam...</td>\n      <td>2015-10-26</td>\n      <td>148.0</td>\n      <td>[{\"iso_639_1\": \"fr\", \"name\": \"Fran\\u00e7ais\"},...</td>\n      <td>Released</td>\n      <td>A Plan No One Escapes</td>\n      <td>6.3</td>\n      <td>4466</td>\n      <td>6.116096</td>\n    </tr>\n    <tr>\n      <th>3</th>\n      <td>3</td>\n      <td>[{\"cast_id\": 2, \"character\": \"Bruce Wayne / Ba...</td>\n      <td>[{\"credit_id\": \"52fe4781c3a36847f81398c3\", \"de...</td>\n      <td>250000000</td>\n      <td>[{\"id\": 28, \"name\": \"Action\"}, {\"id\": 80, \"nam...</td>\n      <td>[{\"id\": 849, \"name\": \"dc comics\"}, {\"id\": 853,...</td>\n      <td>en</td>\n      <td>The Dark Knight Rises</td>\n      <td>Following the death of District Attorney Harve...</td>\n      <td>112.312950</td>\n      <td>[{\"name\": \"Legendary Pictures\", \"id\": 923}, {\"...</td>\n      <td>2012-07-16</td>\n      <td>165.0</td>\n      <td>[{\"iso_639_1\": \"en\", \"name\": \"English\"}]</td>\n      <td>Released</td>\n      <td>The Legend Ends</td>\n      <td>7.6</td>\n      <td>9106</td>\n      <td>6.182607</td>\n    </tr>\n    <tr>\n      <th>4</th>\n      <td>4</td>\n      <td>[{\"cast_id\": 5, \"character\": \"John Carter\", \"c...</td>\n      <td>[{\"credit_id\": \"52fe479ac3a36847f813eaa3\", \"de...</td>\n      <td>260000000</td>\n      <td>[{\"id\": 28, \"name\": \"Action\"}, {\"id\": 12, \"nam...</td>\n      <td>[{\"id\": 818, \"name\": \"based on novel\"}, {\"id\":...</td>\n      <td>en</td>\n      <td>John Carter</td>\n      <td>John Carter is a war-weary, former military ca...</td>\n      <td>43.926995</td>\n      <td>[{\"name\": \"Walt Disney Pictures\", \"id\": 2}]</td>\n      <td>2012-03-07</td>\n      <td>132.0</td>\n      <td>[{\"iso_639_1\": \"en\", \"name\": \"English\"}]</td>\n      <td>Released</td>\n      <td>Lost in our world, found in another.</td>\n      <td>6.1</td>\n      <td>2124</td>\n      <td>6.093853</td>\n    </tr>\n    <tr>\n      <th>5</th>\n      <td>5</td>\n      <td>[{\"cast_id\": 30, \"character\": \"Peter Parker / ...</td>\n      <td>[{\"credit_id\": \"52fe4252c3a36847f80151a5\", \"de...</td>\n      <td>258000000</td>\n      <td>[{\"id\": 14, \"name\": \"Fantasy\"}, {\"id\": 28, \"na...</td>\n      <td>[{\"id\": 851, \"name\": \"dual identity\"}, {\"id\": ...</td>\n      <td>en</td>\n      <td>Spider-Man 3</td>\n      <td>The seemingly invincible Spider-Man goes up ag...</td>\n      <td>115.699814</td>\n      <td>[{\"name\": \"Columbia Pictures\", \"id\": 5}, {\"nam...</td>\n      <td>2007-05-01</td>\n      <td>139.0</td>\n      <td>[{\"iso_639_1\": \"en\", \"name\": \"English\"}, {\"iso...</td>\n      <td>Released</td>\n      <td>The battle within.</td>\n      <td>5.9</td>\n      <td>3576</td>\n      <td>6.065313</td>\n    </tr>\n    <tr>\n      <th>6</th>\n      <td>6</td>\n      <td>[{\"cast_id\": 34, \"character\": \"Flynn Rider (vo...</td>\n      <td>[{\"credit_id\": \"52fe46db9251416c91062101\", \"de...</td>\n      <td>260000000</td>\n      <td>[{\"id\": 16, \"name\": \"Animation\"}, {\"id\": 10751...</td>\n      <td>[{\"id\": 1562, \"name\": \"hostage\"}, {\"id\": 2343,...</td>\n      <td>en</td>\n      <td>Tangled</td>\n      <td>When the kingdom's most wanted-and most charmi...</td>\n      <td>48.681969</td>\n      <td>[{\"name\": \"Walt Disney Pictures\", \"id\": 2}, {\"...</td>\n      <td>2010-11-24</td>\n      <td>100.0</td>\n      <td>[{\"iso_639_1\": \"en\", \"name\": \"English\"}]</td>\n      <td>Released</td>\n      <td>They're taking adventure to new lengths.</td>\n      <td>7.4</td>\n      <td>3330</td>\n      <td>6.286456</td>\n    </tr>\n    <tr>\n      <th>7</th>\n      <td>7</td>\n      <td>[{\"cast_id\": 76, \"character\": \"Tony Stark / Ir...</td>\n      <td>[{\"credit_id\": \"55d5f7d4c3a3683e7e0016eb\", \"de...</td>\n      <td>280000000</td>\n      <td>[{\"id\": 28, \"name\": \"Action\"}, {\"id\": 12, \"nam...</td>\n      <td>[{\"id\": 8828, \"name\": \"marvel comic\"}, {\"id\": ...</td>\n      <td>en</td>\n      <td>Avengers: Age of Ultron</td>\n      <td>When Tony Stark tries to jumpstart a dormant p...</td>\n      <td>134.279229</td>\n      <td>[{\"name\": \"Marvel Studios\", \"id\": 420}, {\"name...</td>\n      <td>2015-04-22</td>\n      <td>141.0</td>\n      <td>[{\"iso_639_1\": \"en\", \"name\": \"English\"}]</td>\n      <td>Released</td>\n      <td>A New Age Has Come.</td>\n      <td>7.3</td>\n      <td>6767</td>\n      <td>6.187674</td>\n    </tr>\n    <tr>\n      <th>8</th>\n      <td>8</td>\n      <td>[{\"cast_id\": 3, \"character\": \"Harry Potter\", \"...</td>\n      <td>[{\"credit_id\": \"52fe4273c3a36847f801fab1\", \"de...</td>\n      <td>250000000</td>\n      <td>[{\"id\": 12, \"name\": \"Adventure\"}, {\"id\": 14, \"...</td>\n      <td>[{\"id\": 616, \"name\": \"witch\"}, {\"id\": 2343, \"n...</td>\n      <td>en</td>\n      <td>Harry Potter and the Half-Blood Prince</td>\n      <td>As Harry begins his sixth year at Hogwarts, he...</td>\n      <td>98.885637</td>\n      <td>[{\"name\": \"Warner Bros.\", \"id\": 6194}, {\"name\"...</td>\n      <td>2009-07-07</td>\n      <td>153.0</td>\n      <td>[{\"iso_639_1\": \"en\", \"name\": \"English\"}]</td>\n      <td>Released</td>\n      <td>Dark Secrets Revealed</td>\n      <td>7.4</td>\n      <td>5293</td>\n      <td>6.221529</td>\n    </tr>\n    <tr>\n      <th>9</th>\n      <td>9</td>\n      <td>[{\"cast_id\": 18, \"character\": \"Bruce Wayne / B...</td>\n      <td>[{\"credit_id\": \"553bf23692514135c8002886\", \"de...</td>\n      <td>250000000</td>\n      <td>[{\"id\": 28, \"name\": \"Action\"}, {\"id\": 12, \"nam...</td>\n      <td>[{\"id\": 849, \"name\": \"dc comics\"}, {\"id\": 7002...</td>\n      <td>en</td>\n      <td>Batman v Superman: Dawn of Justice</td>\n      <td>Fearing the actions of a god-like Super Hero l...</td>\n      <td>155.790452</td>\n      <td>[{\"name\": \"DC Comics\", \"id\": 429}, {\"name\": \"A...</td>\n      <td>2016-03-23</td>\n      <td>151.0</td>\n      <td>[{\"iso_639_1\": \"en\", \"name\": \"English\"}]</td>\n      <td>Released</td>\n      <td>Justice or revenge</td>\n      <td>5.7</td>\n      <td>7004</td>\n      <td>6.062132</td>\n    </tr>\n    <tr>\n      <th>10</th>\n      <td>10</td>\n      <td>[{\"cast_id\": 3, \"character\": \"Superman / Clark...</td>\n      <td>[{\"credit_id\": \"553bef6a9251416874003c8f\", \"de...</td>\n      <td>270000000</td>\n      <td>[{\"id\": 12, \"name\": \"Adventure\"}, {\"id\": 14, \"...</td>\n      <td>[{\"id\": 83, \"name\": \"saving the world\"}, {\"id\"...</td>\n      <td>en</td>\n      <td>Superman Returns</td>\n      <td>Superman returns to discover his 5-year absenc...</td>\n      <td>57.925623</td>\n      <td>[{\"name\": \"DC Comics\", \"id\": 429}, {\"name\": \"L...</td>\n      <td>2006-06-28</td>\n      <td>154.0</td>\n      <td>[{\"iso_639_1\": \"en\", \"name\": \"English\"}, {\"iso...</td>\n      <td>Released</td>\n      <td>NaN</td>\n      <td>5.4</td>\n      <td>1400</td>\n      <td>5.889167</td>\n    </tr>\n    <tr>\n      <th>11</th>\n      <td>11</td>\n      <td>[{\"cast_id\": 1, \"character\": \"James Bond\", \"cr...</td>\n      <td>[{\"credit_id\": \"52fe43b29251416c7501aa63\", \"de...</td>\n      <td>200000000</td>\n      <td>[{\"id\": 12, \"name\": \"Adventure\"}, {\"id\": 28, \"...</td>\n      <td>[{\"id\": 627, \"name\": \"killing\"}, {\"id\": 1568, ...</td>\n      <td>en</td>\n      <td>Quantum of Solace</td>\n      <td>Quantum of Solace continues the adventures of ...</td>\n      <td>107.928811</td>\n      <td>[{\"name\": \"Eon Productions\", \"id\": 7576}]</td>\n      <td>2008-10-30</td>\n      <td>106.0</td>\n      <td>[{\"iso_639_1\": \"en\", \"name\": \"English\"}, {\"iso...</td>\n      <td>Released</td>\n      <td>For love, for hate, for justice, for revenge.</td>\n      <td>6.1</td>\n      <td>2965</td>\n      <td>6.093454</td>\n    </tr>\n    <tr>\n      <th>12</th>\n      <td>12</td>\n      <td>[{\"cast_id\": 37, \"character\": \"Captain Jack Sp...</td>\n      <td>[{\"credit_id\": \"52fe4211c3a36847f8001873\", \"de...</td>\n      <td>200000000</td>\n      <td>[{\"id\": 12, \"name\": \"Adventure\"}, {\"id\": 14, \"...</td>\n      <td>[{\"id\": 616, \"name\": \"witch\"}, {\"id\": 663, \"na...</td>\n      <td>en</td>\n      <td>Pirates of the Caribbean: Dead Man's Chest</td>\n      <td>Captain Jack Sparrow works his way out of a bl...</td>\n      <td>145.847379</td>\n      <td>[{\"name\": \"Walt Disney Pictures\", \"id\": 2}, {\"...</td>\n      <td>2006-06-20</td>\n      <td>151.0</td>\n      <td>[{\"iso_639_1\": \"en\", \"name\": \"English\"}, {\"iso...</td>\n      <td>Released</td>\n      <td>Jack is back!</td>\n      <td>7.0</td>\n      <td>5246</td>\n      <td>6.182690</td>\n    </tr>\n    <tr>\n      <th>13</th>\n      <td>13</td>\n      <td>[{\"cast_id\": 4, \"character\": \"Tonto\", \"credit_...</td>\n      <td>[{\"credit_id\": \"52fe4928c3a36847f818be95\", \"de...</td>\n      <td>255000000</td>\n      <td>[{\"id\": 28, \"name\": \"Action\"}, {\"id\": 12, \"nam...</td>\n      <td>[{\"id\": 1556, \"name\": \"texas\"}, {\"id\": 2673, \"...</td>\n      <td>en</td>\n      <td>The Lone Ranger</td>\n      <td>The Texas Rangers chase down a gang of outlaws...</td>\n      <td>49.046956</td>\n      <td>[{\"name\": \"Walt Disney Pictures\", \"id\": 2}, {\"...</td>\n      <td>2013-07-03</td>\n      <td>149.0</td>\n      <td>[{\"iso_639_1\": \"en\", \"name\": \"English\"}]</td>\n      <td>Released</td>\n      <td>Never Take Off the Mask</td>\n      <td>5.9</td>\n      <td>2311</td>\n      <td>6.053564</td>\n    </tr>\n    <tr>\n      <th>14</th>\n      <td>14</td>\n      <td>[{\"cast_id\": 2, \"character\": \"Clark Kent / Kal...</td>\n      <td>[{\"credit_id\": \"52fe4799c3a36847f813e667\", \"de...</td>\n      <td>225000000</td>\n      <td>[{\"id\": 28, \"name\": \"Action\"}, {\"id\": 12, \"nam...</td>\n      <td>[{\"id\": 83, \"name\": \"saving the world\"}, {\"id\"...</td>\n      <td>en</td>\n      <td>Man of Steel</td>\n      <td>A young boy learns that he has extraordinary p...</td>\n      <td>99.398009</td>\n      <td>[{\"name\": \"Legendary Pictures\", \"id\": 923}, {\"...</td>\n      <td>2013-06-12</td>\n      <td>143.0</td>\n      <td>[{\"iso_639_1\": \"en\", \"name\": \"English\"}]</td>\n      <td>Released</td>\n      <td>You will believe that a man can fly.</td>\n      <td>6.5</td>\n      <td>6359</td>\n      <td>6.126314</td>\n    </tr>\n    <tr>\n      <th>15</th>\n      <td>15</td>\n      <td>[{\"cast_id\": 1, \"character\": \"Prince Caspian\",...</td>\n      <td>[{\"credit_id\": \"55a239e69251412979002e8b\", \"de...</td>\n      <td>225000000</td>\n      <td>[{\"id\": 12, \"name\": \"Adventure\"}, {\"id\": 10751...</td>\n      <td>[{\"id\": 818, \"name\": \"based on novel\"}, {\"id\":...</td>\n      <td>en</td>\n      <td>The Chronicles of Narnia: Prince Caspian</td>\n      <td>One year after their incredible adventures in ...</td>\n      <td>53.978602</td>\n      <td>[{\"name\": \"Walt Disney\", \"id\": 5888}, {\"name\":...</td>\n      <td>2008-05-15</td>\n      <td>150.0</td>\n      <td>[{\"iso_639_1\": \"en\", \"name\": \"English\"}]</td>\n      <td>Released</td>\n      <td>Hope has a new face.</td>\n      <td>6.3</td>\n      <td>1630</td>\n      <td>6.146784</td>\n    </tr>\n  </tbody>\n</table>\n</div>"
     },
     "metadata": {},
     "execution_count": 3
    }
   ],
   "source": [
    "\n",
    "df.drop(columns=['movie_id'],inplace=True )\n",
    "df.head(16)"
   ]
  },
  {
   "cell_type": "code",
   "execution_count": 4,
   "metadata": {
    "ExecuteTime": {
     "end_time": "2021-02-08T18:46:23.857140Z",
     "start_time": "2021-02-08T18:46:23.844175Z"
    }
   },
   "outputs": [],
   "source": [
    "df.rename(columns={\"Unnamed: 0\":\"Movie_id\"},inplace=True)"
   ]
  },
  {
   "cell_type": "code",
   "execution_count": 5,
   "metadata": {
    "ExecuteTime": {
     "end_time": "2021-02-08T18:46:23.936926Z",
     "start_time": "2021-02-08T18:46:23.861128Z"
    }
   },
   "outputs": [],
   "source": [
    "df.replace(to_replace='[]' ,value='none' ,inplace=True)\n",
    "df.fillna(value='none',inplace=True)"
   ]
  },
  {
   "cell_type": "code",
   "execution_count": 6,
   "metadata": {
    "ExecuteTime": {
     "end_time": "2021-02-08T18:46:23.952884Z",
     "start_time": "2021-02-08T18:46:23.941912Z"
    }
   },
   "outputs": [
    {
     "output_type": "execute_result",
     "data": {
      "text/plain": [
       "Index(['Movie_id', 'cast', 'crew', 'budget', 'genres', 'keywords',\n",
       "       'original_language', 'original_title', 'overview', 'popularity',\n",
       "       'production_companies', 'release_date', 'runtime', 'spoken_languages',\n",
       "       'status', 'tagline', 'vote_average', 'vote_count', 'weighted_avg'],\n",
       "      dtype='object')"
      ]
     },
     "metadata": {},
     "execution_count": 6
    }
   ],
   "source": [
    "df.columns\n"
   ]
  },
  {
   "cell_type": "code",
   "execution_count": 7,
   "metadata": {
    "ExecuteTime": {
     "end_time": "2021-02-08T18:46:23.968840Z",
     "start_time": "2021-02-08T18:46:23.958867Z"
    }
   },
   "outputs": [],
   "source": [
    "col=['cast','crew','genres','original_title','production_companies','tagline']"
   ]
  },
  {
   "cell_type": "code",
   "execution_count": 8,
   "metadata": {
    "ExecuteTime": {
     "end_time": "2021-02-08T18:46:24.046632Z",
     "start_time": "2021-02-08T18:46:23.975823Z"
    }
   },
   "outputs": [
    {
     "output_type": "execute_result",
     "data": {
      "text/plain": [
       "                                                   cast  \\\n",
       "0     [{\"cast_id\": 242, \"character\": \"Jake Sully\", \"...   \n",
       "1     [{\"cast_id\": 4, \"character\": \"Captain Jack Spa...   \n",
       "2     [{\"cast_id\": 1, \"character\": \"James Bond\", \"cr...   \n",
       "3     [{\"cast_id\": 2, \"character\": \"Bruce Wayne / Ba...   \n",
       "4     [{\"cast_id\": 5, \"character\": \"John Carter\", \"c...   \n",
       "...                                                 ...   \n",
       "4798  [{\"cast_id\": 1, \"character\": \"El Mariachi\", \"c...   \n",
       "4799  [{\"cast_id\": 1, \"character\": \"Buzzy\", \"credit_...   \n",
       "4800  [{\"cast_id\": 8, \"character\": \"Oliver O\\u2019To...   \n",
       "4801  [{\"cast_id\": 3, \"character\": \"Sam\", \"credit_id...   \n",
       "4802  [{\"cast_id\": 3, \"character\": \"Herself\", \"credi...   \n",
       "\n",
       "                                                   crew  \\\n",
       "0     [{\"credit_id\": \"52fe48009251416c750aca23\", \"de...   \n",
       "1     [{\"credit_id\": \"52fe4232c3a36847f800b579\", \"de...   \n",
       "2     [{\"credit_id\": \"54805967c3a36829b5002c41\", \"de...   \n",
       "3     [{\"credit_id\": \"52fe4781c3a36847f81398c3\", \"de...   \n",
       "4     [{\"credit_id\": \"52fe479ac3a36847f813eaa3\", \"de...   \n",
       "...                                                 ...   \n",
       "4798  [{\"credit_id\": \"52fe44eec3a36847f80b280b\", \"de...   \n",
       "4799  [{\"credit_id\": \"52fe487dc3a368484e0fb013\", \"de...   \n",
       "4800  [{\"credit_id\": \"52fe4df3c3a36847f8275ecf\", \"de...   \n",
       "4801  [{\"credit_id\": \"52fe4ad9c3a368484e16a36b\", \"de...   \n",
       "4802  [{\"credit_id\": \"58ce021b9251415a390165d9\", \"de...   \n",
       "\n",
       "                                                 genres  \\\n",
       "0     [{\"id\": 28, \"name\": \"Action\"}, {\"id\": 12, \"nam...   \n",
       "1     [{\"id\": 12, \"name\": \"Adventure\"}, {\"id\": 14, \"...   \n",
       "2     [{\"id\": 28, \"name\": \"Action\"}, {\"id\": 12, \"nam...   \n",
       "3     [{\"id\": 28, \"name\": \"Action\"}, {\"id\": 80, \"nam...   \n",
       "4     [{\"id\": 28, \"name\": \"Action\"}, {\"id\": 12, \"nam...   \n",
       "...                                                 ...   \n",
       "4798  [{\"id\": 28, \"name\": \"Action\"}, {\"id\": 80, \"nam...   \n",
       "4799  [{\"id\": 35, \"name\": \"Comedy\"}, {\"id\": 10749, \"...   \n",
       "4800  [{\"id\": 35, \"name\": \"Comedy\"}, {\"id\": 18, \"nam...   \n",
       "4801                                               none   \n",
       "4802                [{\"id\": 99, \"name\": \"Documentary\"}]   \n",
       "\n",
       "                                original_title  \\\n",
       "0                                       Avatar   \n",
       "1     Pirates of the Caribbean: At World's End   \n",
       "2                                      Spectre   \n",
       "3                        The Dark Knight Rises   \n",
       "4                                  John Carter   \n",
       "...                                        ...   \n",
       "4798                               El Mariachi   \n",
       "4799                                 Newlyweds   \n",
       "4800                 Signed, Sealed, Delivered   \n",
       "4801                          Shanghai Calling   \n",
       "4802                         My Date with Drew   \n",
       "\n",
       "                                   production_companies  \\\n",
       "0     [{\"name\": \"Ingenious Film Partners\", \"id\": 289...   \n",
       "1     [{\"name\": \"Walt Disney Pictures\", \"id\": 2}, {\"...   \n",
       "2     [{\"name\": \"Columbia Pictures\", \"id\": 5}, {\"nam...   \n",
       "3     [{\"name\": \"Legendary Pictures\", \"id\": 923}, {\"...   \n",
       "4           [{\"name\": \"Walt Disney Pictures\", \"id\": 2}]   \n",
       "...                                                 ...   \n",
       "4798           [{\"name\": \"Columbia Pictures\", \"id\": 5}]   \n",
       "4799                                               none   \n",
       "4800  [{\"name\": \"Front Street Pictures\", \"id\": 3958}...   \n",
       "4801                                               none   \n",
       "4802  [{\"name\": \"rusty bear entertainment\", \"id\": 87...   \n",
       "\n",
       "                                                tagline  \n",
       "0                           Enter the World of Pandora.  \n",
       "1        At the end of the world, the adventure begins.  \n",
       "2                                 A Plan No One Escapes  \n",
       "3                                       The Legend Ends  \n",
       "4                  Lost in our world, found in another.  \n",
       "...                                                 ...  \n",
       "4798  He didn't come looking for trouble, but troubl...  \n",
       "4799  A newlywed couple's honeymoon is upended by th...  \n",
       "4800                                               none  \n",
       "4801                           A New Yorker in Shanghai  \n",
       "4802                                               none  \n",
       "\n",
       "[4803 rows x 6 columns]"
      ],
      "text/html": "<div>\n<style scoped>\n    .dataframe tbody tr th:only-of-type {\n        vertical-align: middle;\n    }\n\n    .dataframe tbody tr th {\n        vertical-align: top;\n    }\n\n    .dataframe thead th {\n        text-align: right;\n    }\n</style>\n<table border=\"1\" class=\"dataframe\">\n  <thead>\n    <tr style=\"text-align: right;\">\n      <th></th>\n      <th>cast</th>\n      <th>crew</th>\n      <th>genres</th>\n      <th>original_title</th>\n      <th>production_companies</th>\n      <th>tagline</th>\n    </tr>\n  </thead>\n  <tbody>\n    <tr>\n      <th>0</th>\n      <td>[{\"cast_id\": 242, \"character\": \"Jake Sully\", \"...</td>\n      <td>[{\"credit_id\": \"52fe48009251416c750aca23\", \"de...</td>\n      <td>[{\"id\": 28, \"name\": \"Action\"}, {\"id\": 12, \"nam...</td>\n      <td>Avatar</td>\n      <td>[{\"name\": \"Ingenious Film Partners\", \"id\": 289...</td>\n      <td>Enter the World of Pandora.</td>\n    </tr>\n    <tr>\n      <th>1</th>\n      <td>[{\"cast_id\": 4, \"character\": \"Captain Jack Spa...</td>\n      <td>[{\"credit_id\": \"52fe4232c3a36847f800b579\", \"de...</td>\n      <td>[{\"id\": 12, \"name\": \"Adventure\"}, {\"id\": 14, \"...</td>\n      <td>Pirates of the Caribbean: At World's End</td>\n      <td>[{\"name\": \"Walt Disney Pictures\", \"id\": 2}, {\"...</td>\n      <td>At the end of the world, the adventure begins.</td>\n    </tr>\n    <tr>\n      <th>2</th>\n      <td>[{\"cast_id\": 1, \"character\": \"James Bond\", \"cr...</td>\n      <td>[{\"credit_id\": \"54805967c3a36829b5002c41\", \"de...</td>\n      <td>[{\"id\": 28, \"name\": \"Action\"}, {\"id\": 12, \"nam...</td>\n      <td>Spectre</td>\n      <td>[{\"name\": \"Columbia Pictures\", \"id\": 5}, {\"nam...</td>\n      <td>A Plan No One Escapes</td>\n    </tr>\n    <tr>\n      <th>3</th>\n      <td>[{\"cast_id\": 2, \"character\": \"Bruce Wayne / Ba...</td>\n      <td>[{\"credit_id\": \"52fe4781c3a36847f81398c3\", \"de...</td>\n      <td>[{\"id\": 28, \"name\": \"Action\"}, {\"id\": 80, \"nam...</td>\n      <td>The Dark Knight Rises</td>\n      <td>[{\"name\": \"Legendary Pictures\", \"id\": 923}, {\"...</td>\n      <td>The Legend Ends</td>\n    </tr>\n    <tr>\n      <th>4</th>\n      <td>[{\"cast_id\": 5, \"character\": \"John Carter\", \"c...</td>\n      <td>[{\"credit_id\": \"52fe479ac3a36847f813eaa3\", \"de...</td>\n      <td>[{\"id\": 28, \"name\": \"Action\"}, {\"id\": 12, \"nam...</td>\n      <td>John Carter</td>\n      <td>[{\"name\": \"Walt Disney Pictures\", \"id\": 2}]</td>\n      <td>Lost in our world, found in another.</td>\n    </tr>\n    <tr>\n      <th>...</th>\n      <td>...</td>\n      <td>...</td>\n      <td>...</td>\n      <td>...</td>\n      <td>...</td>\n      <td>...</td>\n    </tr>\n    <tr>\n      <th>4798</th>\n      <td>[{\"cast_id\": 1, \"character\": \"El Mariachi\", \"c...</td>\n      <td>[{\"credit_id\": \"52fe44eec3a36847f80b280b\", \"de...</td>\n      <td>[{\"id\": 28, \"name\": \"Action\"}, {\"id\": 80, \"nam...</td>\n      <td>El Mariachi</td>\n      <td>[{\"name\": \"Columbia Pictures\", \"id\": 5}]</td>\n      <td>He didn't come looking for trouble, but troubl...</td>\n    </tr>\n    <tr>\n      <th>4799</th>\n      <td>[{\"cast_id\": 1, \"character\": \"Buzzy\", \"credit_...</td>\n      <td>[{\"credit_id\": \"52fe487dc3a368484e0fb013\", \"de...</td>\n      <td>[{\"id\": 35, \"name\": \"Comedy\"}, {\"id\": 10749, \"...</td>\n      <td>Newlyweds</td>\n      <td>none</td>\n      <td>A newlywed couple's honeymoon is upended by th...</td>\n    </tr>\n    <tr>\n      <th>4800</th>\n      <td>[{\"cast_id\": 8, \"character\": \"Oliver O\\u2019To...</td>\n      <td>[{\"credit_id\": \"52fe4df3c3a36847f8275ecf\", \"de...</td>\n      <td>[{\"id\": 35, \"name\": \"Comedy\"}, {\"id\": 18, \"nam...</td>\n      <td>Signed, Sealed, Delivered</td>\n      <td>[{\"name\": \"Front Street Pictures\", \"id\": 3958}...</td>\n      <td>none</td>\n    </tr>\n    <tr>\n      <th>4801</th>\n      <td>[{\"cast_id\": 3, \"character\": \"Sam\", \"credit_id...</td>\n      <td>[{\"credit_id\": \"52fe4ad9c3a368484e16a36b\", \"de...</td>\n      <td>none</td>\n      <td>Shanghai Calling</td>\n      <td>none</td>\n      <td>A New Yorker in Shanghai</td>\n    </tr>\n    <tr>\n      <th>4802</th>\n      <td>[{\"cast_id\": 3, \"character\": \"Herself\", \"credi...</td>\n      <td>[{\"credit_id\": \"58ce021b9251415a390165d9\", \"de...</td>\n      <td>[{\"id\": 99, \"name\": \"Documentary\"}]</td>\n      <td>My Date with Drew</td>\n      <td>[{\"name\": \"rusty bear entertainment\", \"id\": 87...</td>\n      <td>none</td>\n    </tr>\n  </tbody>\n</table>\n<p>4803 rows × 6 columns</p>\n</div>"
     },
     "metadata": {},
     "execution_count": 8
    }
   ],
   "source": [
    "df[col]"
   ]
  },
  {
   "cell_type": "code",
   "execution_count": 9,
   "metadata": {
    "ExecuteTime": {
     "end_time": "2021-02-08T18:46:24.078548Z",
     "start_time": "2021-02-08T18:46:24.049625Z"
    }
   },
   "outputs": [
    {
     "output_type": "execute_result",
     "data": {
      "text/plain": [
       "False"
      ]
     },
     "metadata": {},
     "execution_count": 9
    }
   ],
   "source": [
    "df[col].isnull().values.any()"
   ]
  },
  {
   "cell_type": "code",
   "execution_count": 10,
   "metadata": {
    "ExecuteTime": {
     "end_time": "2021-02-08T18:46:24.126419Z",
     "start_time": "2021-02-08T18:46:24.083534Z"
    }
   },
   "outputs": [],
   "source": [
    "def important_features (data):\n",
    "    important_features=[]\n",
    "    for i in range(0,df.shape[0]):\n",
    "        important_features.append(df['cast'][i]+' '+df['crew'][i]+' '+df['genres'][i]+ ' '+\n",
    "                                   df['original_title'][i]+df['production_companies'][i]+ ' '+df['tagline'][i]+ ' ')\n",
    "    return important_features"
   ]
  },
  {
   "cell_type": "code",
   "execution_count": 11,
   "metadata": {
    "ExecuteTime": {
     "end_time": "2021-02-08T18:46:25.776008Z",
     "start_time": "2021-02-08T18:46:24.129411Z"
    }
   },
   "outputs": [],
   "source": [
    "df['feature_extraction']= important_features(df)"
   ]
  },
  {
   "cell_type": "code",
   "execution_count": null,
   "metadata": {},
   "outputs": [],
   "source": [
    "df.savec"
   ]
  },
  {
   "cell_type": "code",
   "execution_count": 12,
   "metadata": {
    "ExecuteTime": {
     "end_time": "2021-02-08T18:46:25.807923Z",
     "start_time": "2021-02-08T18:46:25.783987Z"
    }
   },
   "outputs": [
    {
     "output_type": "execute_result",
     "data": {
      "text/plain": [
       "0       [{\"cast_id\": 242, \"character\": \"Jake Sully\", \"...\n",
       "1       [{\"cast_id\": 4, \"character\": \"Captain Jack Spa...\n",
       "2       [{\"cast_id\": 1, \"character\": \"James Bond\", \"cr...\n",
       "3       [{\"cast_id\": 2, \"character\": \"Bruce Wayne / Ba...\n",
       "4       [{\"cast_id\": 5, \"character\": \"John Carter\", \"c...\n",
       "                              ...                        \n",
       "4798    [{\"cast_id\": 1, \"character\": \"El Mariachi\", \"c...\n",
       "4799    [{\"cast_id\": 1, \"character\": \"Buzzy\", \"credit_...\n",
       "4800    [{\"cast_id\": 8, \"character\": \"Oliver O\\u2019To...\n",
       "4801    [{\"cast_id\": 3, \"character\": \"Sam\", \"credit_id...\n",
       "4802    [{\"cast_id\": 3, \"character\": \"Herself\", \"credi...\n",
       "Name: feature_extraction, Length: 4803, dtype: object"
      ]
     },
     "metadata": {},
     "execution_count": 12
    }
   ],
   "source": [
    "df['feature_extraction']"
   ]
  },
  {
   "cell_type": "code",
   "execution_count": 13,
   "metadata": {
    "ExecuteTime": {
     "end_time": "2021-02-08T18:46:34.308193Z",
     "start_time": "2021-02-08T18:46:25.810915Z"
    }
   },
   "outputs": [],
   "source": [
    "cv= CountVectorizer().fit_transform(df['feature_extraction'])\n"
   ]
  },
  {
   "cell_type": "code",
   "execution_count": 14,
   "metadata": {
    "ExecuteTime": {
     "end_time": "2021-02-08T18:46:38.559824Z",
     "start_time": "2021-02-08T18:46:34.310188Z"
    }
   },
   "outputs": [
    {
     "output_type": "stream",
     "name": "stdout",
     "text": [
      "[[0.         0.04210997 0.01042813 ... 0.0628981  0.16572148 0.1165781 ]\n [0.04210997 0.         0.03792361 ... 0.05364596 0.1179585  0.07737548]\n [0.01042813 0.03792361 0.         ... 0.05453267 0.15952105 0.11128378]\n ...\n [0.0628981  0.05364596 0.05453267 ... 0.         0.1774102  0.10679463]\n [0.16572148 0.1179585  0.15952105 ... 0.1774102  0.         0.14354186]\n [0.1165781  0.07737548 0.11128378 ... 0.10679463 0.14354186 0.        ]]\n"
     ]
    }
   ],
   "source": [
    "cs=cosine_distances(cv)\n",
    "print(cs)"
   ]
  },
  {
   "cell_type": "code",
   "execution_count": 15,
   "metadata": {
    "ExecuteTime": {
     "end_time": "2021-02-08T18:46:38.590745Z",
     "start_time": "2021-02-08T18:46:38.563814Z"
    }
   },
   "outputs": [],
   "source": [
    "def get_movie(data):\n",
    "    mov_id=df[df.original_title==data]['Movie_id'].values[0]\n",
    "    score=list(enumerate(cs[mov_id]))\n",
    "    sort_score=sorted(score,key=lambda x :x[1],reverse=False)\n",
    "    sort_score=sort_score[1:]\n",
    "    name_recom=[]\n",
    "    for item in sort_score:\n",
    "        name_recom.append(df[df.Movie_id==item[0]]['original_title'].values[0])\n",
    "    your_movie=[]\n",
    "    j=0\n",
    "    for nAme in name_recom:\n",
    "        your_movie.append(nAme)\n",
    "        j+=1\n",
    "        if j>10:\n",
    "            break\n",
    "    return your_movie\n",
    "        "
   ]
  },
  {
   "cell_type": "code",
   "execution_count": 16,
   "metadata": {
    "ExecuteTime": {
     "end_time": "2021-02-08T18:48:04.145195Z",
     "start_time": "2021-02-08T18:46:38.594732Z"
    }
   },
   "outputs": [],
   "source": [
    "name = str(input('type the movie name you watched:'))"
   ]
  },
  {
   "cell_type": "code",
   "execution_count": 17,
   "metadata": {
    "ExecuteTime": {
     "end_time": "2021-02-08T18:48:11.026232Z",
     "start_time": "2021-02-08T18:48:04.149187Z"
    }
   },
   "outputs": [
    {
     "output_type": "stream",
     "name": "stdout",
     "text": [
      "RECOMMENDATION: \n ['Jupiter Ascending', 'The Amazing Spider-Man', 'Spectre', 'The Martian', 'The Hunger Games: Mockingjay - Part 1', '2012', 'Captain America: The First Avenger', 'Battle: Los Angeles', 'Contact', 'The Girl with the Dragon Tattoo', 'The Twilight Saga: Breaking Dawn - Part 2']\n"
     ]
    }
   ],
   "source": [
    "recommendation=get_movie(name)\n",
    "\n",
    "print('RECOMMENDATION: \\n',recommendation)"
   ]
  },
  {
   "cell_type": "code",
   "execution_count": null,
   "metadata": {},
   "outputs": [],
   "source": []
  }
 ],
 "metadata": {
  "kernelspec": {
   "display_name": "Python 3",
   "language": "python",
   "name": "python3"
  },
  "language_info": {
   "codemirror_mode": {
    "name": "ipython",
    "version": 3
   },
   "file_extension": ".py",
   "mimetype": "text/x-python",
   "name": "python",
   "nbconvert_exporter": "python",
   "pygments_lexer": "ipython3",
   "version": "3.8.3-final"
  },
  "toc": {
   "base_numbering": 1,
   "nav_menu": {},
   "number_sections": true,
   "sideBar": true,
   "skip_h1_title": false,
   "title_cell": "Table of Contents",
   "title_sidebar": "Contents",
   "toc_cell": false,
   "toc_position": {
    "height": "calc(100% - 180px)",
    "left": "10px",
    "top": "150px",
    "width": "165px"
   },
   "toc_section_display": true,
   "toc_window_display": false
  },
  "varInspector": {
   "cols": {
    "lenName": 16,
    "lenType": 16,
    "lenVar": 40
   },
   "kernels_config": {
    "python": {
     "delete_cmd_postfix": "",
     "delete_cmd_prefix": "del ",
     "library": "var_list.py",
     "varRefreshCmd": "print(var_dic_list())"
    },
    "r": {
     "delete_cmd_postfix": ") ",
     "delete_cmd_prefix": "rm(",
     "library": "var_list.r",
     "varRefreshCmd": "cat(var_dic_list()) "
    }
   },
   "position": {
    "height": "393.52px",
    "left": "359.62px",
    "right": "20px",
    "top": "140px",
    "width": "700px"
   },
   "types_to_exclude": [
    "module",
    "function",
    "builtin_function_or_method",
    "instance",
    "_Feature"
   ],
   "window_display": false
  }
 },
 "nbformat": 4,
 "nbformat_minor": 4
}